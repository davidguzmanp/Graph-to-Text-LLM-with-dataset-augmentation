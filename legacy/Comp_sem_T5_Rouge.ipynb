{
  "nbformat": 4,
  "nbformat_minor": 0,
  "metadata": {
    "colab": {
      "provenance": []
    },
    "kernelspec": {
      "name": "python3",
      "display_name": "Python 3"
    },
    "language_info": {
      "name": "python"
    }
  },
  "cells": [
    {
      "cell_type": "code",
      "execution_count": 1,
      "metadata": {
        "colab": {
          "base_uri": "https://localhost:8080/"
        },
        "id": "razXfRmgHnqj",
        "outputId": "9c5aaaa0-757a-486c-c434-ff97bca56316"
      },
      "outputs": [
        {
          "output_type": "stream",
          "name": "stdout",
          "text": [
            "Mounted at /content/drive\n"
          ]
        }
      ],
      "source": [
        "from google.colab import drive\n",
        "drive.mount('/content/drive', force_remount=True)"
      ]
    },
    {
      "cell_type": "code",
      "source": [
        "import csv"
      ],
      "metadata": {
        "id": "xm0loOM1HoA_"
      },
      "execution_count": 2,
      "outputs": []
    },
    {
      "cell_type": "code",
      "source": [
        "import pandas as pd"
      ],
      "metadata": {
        "id": "FGlkVBeIHoDM"
      },
      "execution_count": 3,
      "outputs": []
    },
    {
      "cell_type": "code",
      "source": [
        "results = pd.read_csv(\"/content/drive/My Drive/comp_sem_group_project/generated_results.csv\")"
      ],
      "metadata": {
        "id": "Feve8s38HoFU"
      },
      "execution_count": 4,
      "outputs": []
    },
    {
      "cell_type": "code",
      "source": [
        "results.head()"
      ],
      "metadata": {
        "colab": {
          "base_uri": "https://localhost:8080/",
          "height": 424
        },
        "id": "pPKnFLMwHoHL",
        "outputId": "9b71d65f-3560-4856-86f0-709fc0dc9b13"
      },
      "execution_count": 5,
      "outputs": [
        {
          "output_type": "execute_result",
          "data": {
            "text/plain": [
              "   Unnamed: 0                                              input  \\\n",
              "0           0  action recognition in videos is a challenging ...   \n",
              "1           1  this paper considers the problem of computing ...   \n",
              "2           2  automated musical accompaniment of human perfo...   \n",
              "3           3  symbolic bidirectional uniform-cost search is ...   \n",
              "4           4  we derive a recursive general-radix pruned coo...   \n",
              "\n",
              "                                        model output  \\\n",
              "0  hybrid video classification using unsupervised...   \n",
              "1  a method for computing placement of points in ...   \n",
              "2  a markov model for musical accompaniment. sequ...   \n",
              "3  abstraction heuristics in symbolic bidirection...   \n",
              "4  a recursive general-radix pruned cooley-tukey ...   \n",
              "\n",
              "                                       target output  \n",
              "0  sympathy for the details : dense trajectories ...  \n",
              "1  stereo from uncalibrated cameras. iterative me...  \n",
              "2  modeling form for on-line following of musical...  \n",
              "3  abstraction heuristics for symbolic bidirectio...  \n",
              "4  generating high performance pruned fft impleme...  "
            ],
            "text/html": [
              "\n",
              "  <div id=\"df-0c261c75-2025-4a8f-9879-fc4cc1c7b620\">\n",
              "    <div class=\"colab-df-container\">\n",
              "      <div>\n",
              "<style scoped>\n",
              "    .dataframe tbody tr th:only-of-type {\n",
              "        vertical-align: middle;\n",
              "    }\n",
              "\n",
              "    .dataframe tbody tr th {\n",
              "        vertical-align: top;\n",
              "    }\n",
              "\n",
              "    .dataframe thead th {\n",
              "        text-align: right;\n",
              "    }\n",
              "</style>\n",
              "<table border=\"1\" class=\"dataframe\">\n",
              "  <thead>\n",
              "    <tr style=\"text-align: right;\">\n",
              "      <th></th>\n",
              "      <th>Unnamed: 0</th>\n",
              "      <th>input</th>\n",
              "      <th>model output</th>\n",
              "      <th>target output</th>\n",
              "    </tr>\n",
              "  </thead>\n",
              "  <tbody>\n",
              "    <tr>\n",
              "      <th>0</th>\n",
              "      <td>0</td>\n",
              "      <td>action recognition in videos is a challenging ...</td>\n",
              "      <td>hybrid video classification using unsupervised...</td>\n",
              "      <td>sympathy for the details : dense trajectories ...</td>\n",
              "    </tr>\n",
              "    <tr>\n",
              "      <th>1</th>\n",
              "      <td>1</td>\n",
              "      <td>this paper considers the problem of computing ...</td>\n",
              "      <td>a method for computing placement of points in ...</td>\n",
              "      <td>stereo from uncalibrated cameras. iterative me...</td>\n",
              "    </tr>\n",
              "    <tr>\n",
              "      <th>2</th>\n",
              "      <td>2</td>\n",
              "      <td>automated musical accompaniment of human perfo...</td>\n",
              "      <td>a markov model for musical accompaniment. sequ...</td>\n",
              "      <td>modeling form for on-line following of musical...</td>\n",
              "    </tr>\n",
              "    <tr>\n",
              "      <th>3</th>\n",
              "      <td>3</td>\n",
              "      <td>symbolic bidirectional uniform-cost search is ...</td>\n",
              "      <td>abstraction heuristics in symbolic bidirection...</td>\n",
              "      <td>abstraction heuristics for symbolic bidirectio...</td>\n",
              "    </tr>\n",
              "    <tr>\n",
              "      <th>4</th>\n",
              "      <td>4</td>\n",
              "      <td>we derive a recursive general-radix pruned coo...</td>\n",
              "      <td>a recursive general-radix pruned cooley-tukey ...</td>\n",
              "      <td>generating high performance pruned fft impleme...</td>\n",
              "    </tr>\n",
              "  </tbody>\n",
              "</table>\n",
              "</div>\n",
              "      <button class=\"colab-df-convert\" onclick=\"convertToInteractive('df-0c261c75-2025-4a8f-9879-fc4cc1c7b620')\"\n",
              "              title=\"Convert this dataframe to an interactive table.\"\n",
              "              style=\"display:none;\">\n",
              "        \n",
              "  <svg xmlns=\"http://www.w3.org/2000/svg\" height=\"24px\"viewBox=\"0 0 24 24\"\n",
              "       width=\"24px\">\n",
              "    <path d=\"M0 0h24v24H0V0z\" fill=\"none\"/>\n",
              "    <path d=\"M18.56 5.44l.94 2.06.94-2.06 2.06-.94-2.06-.94-.94-2.06-.94 2.06-2.06.94zm-11 1L8.5 8.5l.94-2.06 2.06-.94-2.06-.94L8.5 2.5l-.94 2.06-2.06.94zm10 10l.94 2.06.94-2.06 2.06-.94-2.06-.94-.94-2.06-.94 2.06-2.06.94z\"/><path d=\"M17.41 7.96l-1.37-1.37c-.4-.4-.92-.59-1.43-.59-.52 0-1.04.2-1.43.59L10.3 9.45l-7.72 7.72c-.78.78-.78 2.05 0 2.83L4 21.41c.39.39.9.59 1.41.59.51 0 1.02-.2 1.41-.59l7.78-7.78 2.81-2.81c.8-.78.8-2.07 0-2.86zM5.41 20L4 18.59l7.72-7.72 1.47 1.35L5.41 20z\"/>\n",
              "  </svg>\n",
              "      </button>\n",
              "      \n",
              "  <style>\n",
              "    .colab-df-container {\n",
              "      display:flex;\n",
              "      flex-wrap:wrap;\n",
              "      gap: 12px;\n",
              "    }\n",
              "\n",
              "    .colab-df-convert {\n",
              "      background-color: #E8F0FE;\n",
              "      border: none;\n",
              "      border-radius: 50%;\n",
              "      cursor: pointer;\n",
              "      display: none;\n",
              "      fill: #1967D2;\n",
              "      height: 32px;\n",
              "      padding: 0 0 0 0;\n",
              "      width: 32px;\n",
              "    }\n",
              "\n",
              "    .colab-df-convert:hover {\n",
              "      background-color: #E2EBFA;\n",
              "      box-shadow: 0px 1px 2px rgba(60, 64, 67, 0.3), 0px 1px 3px 1px rgba(60, 64, 67, 0.15);\n",
              "      fill: #174EA6;\n",
              "    }\n",
              "\n",
              "    [theme=dark] .colab-df-convert {\n",
              "      background-color: #3B4455;\n",
              "      fill: #D2E3FC;\n",
              "    }\n",
              "\n",
              "    [theme=dark] .colab-df-convert:hover {\n",
              "      background-color: #434B5C;\n",
              "      box-shadow: 0px 1px 3px 1px rgba(0, 0, 0, 0.15);\n",
              "      filter: drop-shadow(0px 1px 2px rgba(0, 0, 0, 0.3));\n",
              "      fill: #FFFFFF;\n",
              "    }\n",
              "  </style>\n",
              "\n",
              "      <script>\n",
              "        const buttonEl =\n",
              "          document.querySelector('#df-0c261c75-2025-4a8f-9879-fc4cc1c7b620 button.colab-df-convert');\n",
              "        buttonEl.style.display =\n",
              "          google.colab.kernel.accessAllowed ? 'block' : 'none';\n",
              "\n",
              "        async function convertToInteractive(key) {\n",
              "          const element = document.querySelector('#df-0c261c75-2025-4a8f-9879-fc4cc1c7b620');\n",
              "          const dataTable =\n",
              "            await google.colab.kernel.invokeFunction('convertToInteractive',\n",
              "                                                     [key], {});\n",
              "          if (!dataTable) return;\n",
              "\n",
              "          const docLinkHtml = 'Like what you see? Visit the ' +\n",
              "            '<a target=\"_blank\" href=https://colab.research.google.com/notebooks/data_table.ipynb>data table notebook</a>'\n",
              "            + ' to learn more about interactive tables.';\n",
              "          element.innerHTML = '';\n",
              "          dataTable['output_type'] = 'display_data';\n",
              "          await google.colab.output.renderOutput(dataTable, element);\n",
              "          const docLink = document.createElement('div');\n",
              "          docLink.innerHTML = docLinkHtml;\n",
              "          element.appendChild(docLink);\n",
              "        }\n",
              "      </script>\n",
              "    </div>\n",
              "  </div>\n",
              "  "
            ]
          },
          "metadata": {},
          "execution_count": 5
        }
      ]
    },
    {
      "cell_type": "code",
      "source": [
        "gen_target = results[\"model output\"].tolist()\n",
        "real_target = results[\"target output\"].tolist()"
      ],
      "metadata": {
        "id": "bj0ggM3-HoJC"
      },
      "execution_count": 6,
      "outputs": []
    },
    {
      "cell_type": "code",
      "source": [
        "len(gen_target)"
      ],
      "metadata": {
        "colab": {
          "base_uri": "https://localhost:8080/"
        },
        "id": "tU3ximcXHoK8",
        "outputId": "3fdf6405-46af-4897-b768-1851cbb7f678"
      },
      "execution_count": 7,
      "outputs": [
        {
          "output_type": "execute_result",
          "data": {
            "text/plain": [
              "1000"
            ]
          },
          "metadata": {},
          "execution_count": 7
        }
      ]
    },
    {
      "cell_type": "code",
      "source": [
        "len(real_target)"
      ],
      "metadata": {
        "colab": {
          "base_uri": "https://localhost:8080/"
        },
        "id": "LTw8OjoaHoM5",
        "outputId": "b615cb6b-a0de-478e-96b3-9087bc722d13"
      },
      "execution_count": 8,
      "outputs": [
        {
          "output_type": "execute_result",
          "data": {
            "text/plain": [
              "1000"
            ]
          },
          "metadata": {},
          "execution_count": 8
        }
      ]
    },
    {
      "cell_type": "markdown",
      "source": [
        "# Get Rouge scores"
      ],
      "metadata": {
        "id": "AvPauhLpLHOK"
      }
    },
    {
      "cell_type": "code",
      "source": [
        "!pip install rouge"
      ],
      "metadata": {
        "colab": {
          "base_uri": "https://localhost:8080/"
        },
        "id": "-HQ78-bFHoO4",
        "outputId": "15cb345b-3c80-40b7-9834-68dee365232b"
      },
      "execution_count": 9,
      "outputs": [
        {
          "output_type": "stream",
          "name": "stdout",
          "text": [
            "Looking in indexes: https://pypi.org/simple, https://us-python.pkg.dev/colab-wheels/public/simple/\n",
            "Collecting rouge\n",
            "  Downloading rouge-1.0.1-py3-none-any.whl (13 kB)\n",
            "Requirement already satisfied: six in /usr/local/lib/python3.10/dist-packages (from rouge) (1.16.0)\n",
            "Installing collected packages: rouge\n",
            "Successfully installed rouge-1.0.1\n"
          ]
        }
      ]
    },
    {
      "cell_type": "code",
      "source": [
        "from rouge import Rouge\n",
        "rouge = Rouge()"
      ],
      "metadata": {
        "id": "7W2bul5cINYO"
      },
      "execution_count": 10,
      "outputs": []
    },
    {
      "cell_type": "code",
      "source": [
        "import gensim\n",
        "from gensim.parsing.preprocessing import remove_stopwords"
      ],
      "metadata": {
        "id": "QtDL8jBtINeR"
      },
      "execution_count": 11,
      "outputs": []
    },
    {
      "cell_type": "code",
      "source": [
        "import statistics"
      ],
      "metadata": {
        "id": "wNnBfj4sINjJ"
      },
      "execution_count": 12,
      "outputs": []
    },
    {
      "cell_type": "code",
      "source": [
        "for i in range(len(gen_target)):\n",
        "  if type(gen_target[i]) == float:\n",
        "    print(i)"
      ],
      "metadata": {
        "colab": {
          "base_uri": "https://localhost:8080/"
        },
        "id": "Vp49EGDIJE1O",
        "outputId": "130035a0-e159-4e77-da4b-7615715369fd"
      },
      "execution_count": 20,
      "outputs": [
        {
          "output_type": "stream",
          "name": "stdout",
          "text": [
            "776\n",
            "792\n",
            "944\n"
          ]
        }
      ]
    },
    {
      "cell_type": "code",
      "source": [
        "del gen_target[776]"
      ],
      "metadata": {
        "id": "5ieLHFrXJcHF"
      },
      "execution_count": 21,
      "outputs": []
    },
    {
      "cell_type": "code",
      "source": [
        "del gen_target[792]"
      ],
      "metadata": {
        "id": "uuQcxg1dJfGs"
      },
      "execution_count": 22,
      "outputs": []
    },
    {
      "cell_type": "code",
      "source": [
        "del gen_target[944]"
      ],
      "metadata": {
        "id": "cMa6iaF2JfSK"
      },
      "execution_count": 23,
      "outputs": []
    },
    {
      "cell_type": "code",
      "source": [
        "len(gen_target)"
      ],
      "metadata": {
        "colab": {
          "base_uri": "https://localhost:8080/"
        },
        "id": "j0kuS4MbJklS",
        "outputId": "021e23d3-37c0-4a0d-e2b5-27559f333bc6"
      },
      "execution_count": 24,
      "outputs": [
        {
          "output_type": "execute_result",
          "data": {
            "text/plain": [
              "997"
            ]
          },
          "metadata": {},
          "execution_count": 24
        }
      ]
    },
    {
      "cell_type": "code",
      "source": [
        "del real_target[776]"
      ],
      "metadata": {
        "id": "FDM5qByCJnw3"
      },
      "execution_count": 25,
      "outputs": []
    },
    {
      "cell_type": "code",
      "source": [
        "del real_target[792]"
      ],
      "metadata": {
        "id": "ayURW1E-Jn38"
      },
      "execution_count": 26,
      "outputs": []
    },
    {
      "cell_type": "code",
      "source": [
        "del real_target[944]"
      ],
      "metadata": {
        "id": "jKVZC-y-Jn-u"
      },
      "execution_count": 27,
      "outputs": []
    },
    {
      "cell_type": "code",
      "source": [
        "len(real_target)"
      ],
      "metadata": {
        "colab": {
          "base_uri": "https://localhost:8080/"
        },
        "id": "rU1xfLxcJt13",
        "outputId": "197a8f5f-59ca-4752-e52a-3617771f30d4"
      },
      "execution_count": 28,
      "outputs": [
        {
          "output_type": "execute_result",
          "data": {
            "text/plain": [
              "997"
            ]
          },
          "metadata": {},
          "execution_count": 28
        }
      ]
    },
    {
      "cell_type": "code",
      "source": [
        "for i in range(len(gen_target)):\n",
        "  if type(gen_target[i]) == float:\n",
        "    print(i)"
      ],
      "metadata": {
        "colab": {
          "base_uri": "https://localhost:8080/"
        },
        "id": "NsIvoh6DJ5zB",
        "outputId": "d503b071-9330-49e5-97a9-da205ba419df"
      },
      "execution_count": 30,
      "outputs": [
        {
          "output_type": "stream",
          "name": "stdout",
          "text": [
            "791\n",
            "942\n"
          ]
        }
      ]
    },
    {
      "cell_type": "code",
      "source": [
        "del gen_target[791]"
      ],
      "metadata": {
        "id": "qFh_VXLQJ7fa"
      },
      "execution_count": 31,
      "outputs": []
    },
    {
      "cell_type": "code",
      "source": [
        "del gen_target[942]"
      ],
      "metadata": {
        "id": "jKuch00YJ7nB"
      },
      "execution_count": 32,
      "outputs": []
    },
    {
      "cell_type": "code",
      "source": [
        "del real_target[791]"
      ],
      "metadata": {
        "id": "MqX1qULWKBkh"
      },
      "execution_count": 33,
      "outputs": []
    },
    {
      "cell_type": "code",
      "source": [
        "del real_target[942]"
      ],
      "metadata": {
        "id": "KNdOv1lEKBrk"
      },
      "execution_count": 34,
      "outputs": []
    },
    {
      "cell_type": "code",
      "source": [
        "for i in range(len(gen_target)):\n",
        "  if type(gen_target[i]) == float:\n",
        "    print(i)"
      ],
      "metadata": {
        "colab": {
          "base_uri": "https://localhost:8080/"
        },
        "id": "hY2_LREyKHVx",
        "outputId": "957ff21d-9688-4e9c-926d-205a7e838b82"
      },
      "execution_count": 36,
      "outputs": [
        {
          "output_type": "stream",
          "name": "stdout",
          "text": [
            "941\n"
          ]
        }
      ]
    },
    {
      "cell_type": "code",
      "source": [
        "del gen_target[941]"
      ],
      "metadata": {
        "id": "8bSwy4UsKKXJ"
      },
      "execution_count": 37,
      "outputs": []
    },
    {
      "cell_type": "code",
      "source": [
        "del real_target[941]"
      ],
      "metadata": {
        "id": "U-ZxWZ87KKbr"
      },
      "execution_count": 38,
      "outputs": []
    },
    {
      "cell_type": "code",
      "source": [
        "rouge1_scores = []\n",
        "\n",
        "for i in range(len(gen_target)):\n",
        "  r1 = gen_target[i]\n",
        "  r2 = real_target[i]\n",
        "\n",
        "  r1 = remove_stopwords(r1)\n",
        "  r2 = remove_stopwords(r2)\n",
        "\n",
        "  r1 = r1.lower()\n",
        "  r2 = r2.lower()\n",
        "\n",
        "  score = rouge.get_scores(r1,r2)\n",
        "  score = score[0]\n",
        "  rouge1_scores.append(score[\"rouge-1\"])"
      ],
      "metadata": {
        "id": "Z0KULLtxHoRg"
      },
      "execution_count": 39,
      "outputs": []
    },
    {
      "cell_type": "code",
      "source": [
        "rouge1_scores_f = []\n",
        "\n",
        "for i in rouge1_scores:\n",
        "  rouge1_scores_f.append(i[\"f\"])"
      ],
      "metadata": {
        "id": "HooOYx-5HoTy"
      },
      "execution_count": 40,
      "outputs": []
    },
    {
      "cell_type": "code",
      "source": [
        "statistics.mean(rouge1_scores_f)"
      ],
      "metadata": {
        "colab": {
          "base_uri": "https://localhost:8080/"
        },
        "id": "rKur0ln_HoV3",
        "outputId": "8fb8efbe-d814-4777-8cf0-a8b2693a0219"
      },
      "execution_count": 41,
      "outputs": [
        {
          "output_type": "execute_result",
          "data": {
            "text/plain": [
              "0.5747002939232416"
            ]
          },
          "metadata": {},
          "execution_count": 41
        }
      ]
    },
    {
      "cell_type": "code",
      "source": [
        "rouge2_scores = []\n",
        "\n",
        "for i in range(len(gen_target)):\n",
        "  r1 = gen_target[i]\n",
        "  r2 = real_target[i]\n",
        "\n",
        "  r1 = remove_stopwords(r1)\n",
        "  r2 = remove_stopwords(r2)\n",
        "\n",
        "  r1 = r1.lower()\n",
        "  r2 = r2.lower()\n",
        "\n",
        " \n",
        "  score = rouge.get_scores(r1,r2)\n",
        "  score = score[0]\n",
        "  rouge2_scores.append(score[\"rouge-2\"])\n",
        "  \n",
        " "
      ],
      "metadata": {
        "id": "DNA_HXEQKRwO"
      },
      "execution_count": 42,
      "outputs": []
    },
    {
      "cell_type": "code",
      "source": [
        "rouge2_scores_f = []\n",
        "\n",
        "for i in rouge2_scores:\n",
        "  rouge2_scores_f.append(i[\"f\"])"
      ],
      "metadata": {
        "id": "-hK_qDbdKUCG"
      },
      "execution_count": 43,
      "outputs": []
    },
    {
      "cell_type": "code",
      "source": [
        "statistics.mean(rouge2_scores_f)"
      ],
      "metadata": {
        "colab": {
          "base_uri": "https://localhost:8080/"
        },
        "id": "A-iaP_xIKUEq",
        "outputId": "903977a3-530f-4122-def3-fdfb0b38ee0d"
      },
      "execution_count": 44,
      "outputs": [
        {
          "output_type": "execute_result",
          "data": {
            "text/plain": [
              "0.35465781694525256"
            ]
          },
          "metadata": {},
          "execution_count": 44
        }
      ]
    },
    {
      "cell_type": "code",
      "source": [
        "rougeL_scores = []\n",
        "\n",
        "for i in range(len(gen_target)):\n",
        "  r1 = gen_target[i]\n",
        "  r2 = real_target[i]\n",
        "\n",
        "  r1 = remove_stopwords(r1)\n",
        "  r2 = remove_stopwords(r2)\n",
        "\n",
        "  r1 = r1.lower()\n",
        "  r2 = r2.lower()\n",
        "\n",
        "\n",
        "  score = rouge.get_scores(r1,r2)\n",
        "  score = score[0]\n",
        "  rougeL_scores.append(score[\"rouge-l\"])\n",
        "  "
      ],
      "metadata": {
        "id": "S-eSobLOKUHe"
      },
      "execution_count": 45,
      "outputs": []
    },
    {
      "cell_type": "code",
      "source": [
        "rougeL_scores_f = []\n",
        "\n",
        "for i in rougeL_scores:\n",
        "  rougeL_scores_f.append(i[\"f\"])"
      ],
      "metadata": {
        "id": "ND02UDDJKUJ4"
      },
      "execution_count": 46,
      "outputs": []
    },
    {
      "cell_type": "code",
      "source": [
        "statistics.mean(rougeL_scores_f)"
      ],
      "metadata": {
        "colab": {
          "base_uri": "https://localhost:8080/"
        },
        "id": "5rIxTwfrKUL5",
        "outputId": "1ba42591-60b8-4ef3-c3d0-b82685d72436"
      },
      "execution_count": 47,
      "outputs": [
        {
          "output_type": "execute_result",
          "data": {
            "text/plain": [
              "0.5417935725052414"
            ]
          },
          "metadata": {},
          "execution_count": 47
        }
      ]
    },
    {
      "cell_type": "markdown",
      "source": [
        "# Get BLEU scores"
      ],
      "metadata": {
        "id": "qY67X3vyLKBd"
      }
    },
    {
      "cell_type": "code",
      "source": [
        "!pip install sacrebleu"
      ],
      "metadata": {
        "id": "_Qk6LAIeKUOH"
      },
      "execution_count": null,
      "outputs": []
    },
    {
      "cell_type": "code",
      "source": [
        "from sacrebleu import corpus_bleu"
      ],
      "metadata": {
        "id": "9uGXpha0LMfu"
      },
      "execution_count": 49,
      "outputs": []
    },
    {
      "cell_type": "code",
      "source": [
        "bleu = corpus_bleu(gen_target, [real_target])"
      ],
      "metadata": {
        "id": "lvOVb_cALMky"
      },
      "execution_count": 50,
      "outputs": []
    },
    {
      "cell_type": "code",
      "source": [
        "print(f\"BLEU score: {bleu.score}\")"
      ],
      "metadata": {
        "colab": {
          "base_uri": "https://localhost:8080/"
        },
        "id": "SCUQNmh3LMnZ",
        "outputId": "4602af2a-8fae-4228-b77c-9f70d51c98c9"
      },
      "execution_count": 51,
      "outputs": [
        {
          "output_type": "stream",
          "name": "stdout",
          "text": [
            "BLEU score: 25.810623785408453\n"
          ]
        }
      ]
    },
    {
      "cell_type": "code",
      "source": [],
      "metadata": {
        "id": "6PMeGuprLMqA"
      },
      "execution_count": null,
      "outputs": []
    },
    {
      "cell_type": "code",
      "source": [],
      "metadata": {
        "id": "T_fIgD6rLMsY"
      },
      "execution_count": null,
      "outputs": []
    },
    {
      "cell_type": "code",
      "source": [],
      "metadata": {
        "id": "XTATAWoqKUQZ"
      },
      "execution_count": null,
      "outputs": []
    },
    {
      "cell_type": "code",
      "source": [],
      "metadata": {
        "id": "X0F-RMBdKUSf"
      },
      "execution_count": null,
      "outputs": []
    }
  ]
}