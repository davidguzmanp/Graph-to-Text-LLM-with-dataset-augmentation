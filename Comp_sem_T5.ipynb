{
  "nbformat": 4,
  "nbformat_minor": 0,
  "metadata": {
    "colab": {
      "provenance": [],
      "gpuType": "T4"
    },
    "kernelspec": {
      "name": "python3",
      "display_name": "Python 3"
    },
    "language_info": {
      "name": "python"
    },
    "accelerator": "GPU",
    "gpuClass": "standard"
  },
  "cells": [
    {
      "cell_type": "markdown",
      "source": [
        "# Upload dataset"
      ],
      "metadata": {
        "id": "g6rN3OZ5xiBG"
      }
    },
    {
      "cell_type": "code",
      "execution_count": 1,
      "metadata": {
        "colab": {
          "base_uri": "https://localhost:8080/"
        },
        "id": "Bc0qEDfcxR71",
        "outputId": "bbf5209f-bb93-4789-f107-d851d52dd4ae"
      },
      "outputs": [
        {
          "output_type": "stream",
          "name": "stdout",
          "text": [
            "Mounted at /content/drive\n"
          ]
        }
      ],
      "source": [
        "from google.colab import drive\n",
        "drive.mount('/content/drive', force_remount=True)"
      ]
    },
    {
      "cell_type": "code",
      "source": [
        "%cd /content/drive/My Drive/comp_sem_group_project/agenda_preprocess/processed"
      ],
      "metadata": {
        "colab": {
          "base_uri": "https://localhost:8080/"
        },
        "id": "kUra7SZbxY9Y",
        "outputId": "856c5e24-5a08-4403-814b-1aec89d6f7c0"
      },
      "execution_count": 2,
      "outputs": [
        {
          "output_type": "stream",
          "name": "stdout",
          "text": [
            "/content/drive/My Drive/comp_sem_group_project/agenda_preprocess/processed\n"
          ]
        }
      ]
    },
    {
      "cell_type": "code",
      "source": [
        "import pandas as pd"
      ],
      "metadata": {
        "id": "Cm55yTjpxZAT"
      },
      "execution_count": 3,
      "outputs": []
    },
    {
      "cell_type": "code",
      "source": [
        "with open(\"training-src.txt\", \"r\") as file:\n",
        "  train_source = file.readlines()"
      ],
      "metadata": {
        "id": "Lx8RR9pdxZDG"
      },
      "execution_count": 4,
      "outputs": []
    },
    {
      "cell_type": "code",
      "source": [
        "file.close()"
      ],
      "metadata": {
        "id": "znTOp1JDxZFc"
      },
      "execution_count": 5,
      "outputs": []
    },
    {
      "cell_type": "code",
      "source": [
        "with open(\"training-tgt.txt\", \"r\") as file:\n",
        "  train_target = file.readlines()"
      ],
      "metadata": {
        "id": "N5-7pIF4xZHq"
      },
      "execution_count": 6,
      "outputs": []
    },
    {
      "cell_type": "code",
      "source": [
        "file.close()"
      ],
      "metadata": {
        "id": "NeP3UOoxxZJp"
      },
      "execution_count": 7,
      "outputs": []
    },
    {
      "cell_type": "code",
      "source": [
        "with open(\"test-src.txt\", \"r\") as file:\n",
        "  test_source = file.readlines()"
      ],
      "metadata": {
        "id": "sjLXP82_xZLw"
      },
      "execution_count": 8,
      "outputs": []
    },
    {
      "cell_type": "code",
      "source": [
        "file.close()"
      ],
      "metadata": {
        "id": "TL5fHULjxZNx"
      },
      "execution_count": 9,
      "outputs": []
    },
    {
      "cell_type": "code",
      "source": [
        "with open(\"test-tgt.txt\", \"r\") as file:\n",
        "  test_target = file.readlines()"
      ],
      "metadata": {
        "id": "ndvY8LhwxZPv"
      },
      "execution_count": 10,
      "outputs": []
    },
    {
      "cell_type": "code",
      "source": [
        "file.close()"
      ],
      "metadata": {
        "id": "CzX-6_8uxZR3"
      },
      "execution_count": 11,
      "outputs": []
    },
    {
      "cell_type": "code",
      "source": [
        "with open(\"dev-src.txt\", \"r\") as file:\n",
        "  val_source = file.readlines()"
      ],
      "metadata": {
        "id": "NolE1-7IxZUG"
      },
      "execution_count": 12,
      "outputs": []
    },
    {
      "cell_type": "code",
      "source": [
        "file.close()"
      ],
      "metadata": {
        "id": "iFozCmSZxZWg"
      },
      "execution_count": 13,
      "outputs": []
    },
    {
      "cell_type": "code",
      "source": [
        "with open(\"dev-tgt.txt\", \"r\") as file:\n",
        "  val_target = file.readlines()"
      ],
      "metadata": {
        "id": "h0gOaeeYxZY7"
      },
      "execution_count": 14,
      "outputs": []
    },
    {
      "cell_type": "code",
      "source": [
        "file.close()"
      ],
      "metadata": {
        "id": "KRLq-4oNxZbF"
      },
      "execution_count": 15,
      "outputs": []
    },
    {
      "cell_type": "markdown",
      "source": [
        "# Reformat the dataset"
      ],
      "metadata": {
        "id": "fHVNu8Rjx4Fx"
      }
    },
    {
      "cell_type": "code",
      "source": [
        "train_df = pd.DataFrame(list(zip(train_source, train_target)),\n",
        "                        columns=['source', 'target'])"
      ],
      "metadata": {
        "id": "9WQt4MuBx5DJ"
      },
      "execution_count": 16,
      "outputs": []
    },
    {
      "cell_type": "code",
      "source": [
        "train_df.head()"
      ],
      "metadata": {
        "colab": {
          "base_uri": "https://localhost:8080/",
          "height": 337
        },
        "id": "4U5207YMx5Gu",
        "outputId": "d46ed9a3-2eea-47d9-ab82-8456a6622502"
      },
      "execution_count": 17,
      "outputs": [
        {
          "output_type": "execute_result",
          "data": {
            "text/plain": [
              "                                              source  \\\n",
              "0  <TITLE> constrained minimization technique for...   \n",
              "1  <TITLE> signfinder : using color to detect , l...   \n",
              "2  <TITLE> joint estimation of motion , structure...   \n",
              "3  <TITLE> hierarchical language identification b...   \n",
              "4  <TITLE> differentially private m-estimators . ...   \n",
              "\n",
              "                                              target  \n",
              "0  this paper describes the constrained minimizat...  \n",
              "1  we describe an approach to detecting , locatin...  \n",
              "2  we present a novel variational method for the ...  \n",
              "3  due to the limitation of single-level classifi...  \n",
              "4  this paper studies privacy preserving m-estima...  "
            ],
            "text/html": [
              "\n",
              "  <div id=\"df-63c59da0-ab68-4faa-ab07-80fa41c3987c\">\n",
              "    <div class=\"colab-df-container\">\n",
              "      <div>\n",
              "<style scoped>\n",
              "    .dataframe tbody tr th:only-of-type {\n",
              "        vertical-align: middle;\n",
              "    }\n",
              "\n",
              "    .dataframe tbody tr th {\n",
              "        vertical-align: top;\n",
              "    }\n",
              "\n",
              "    .dataframe thead th {\n",
              "        text-align: right;\n",
              "    }\n",
              "</style>\n",
              "<table border=\"1\" class=\"dataframe\">\n",
              "  <thead>\n",
              "    <tr style=\"text-align: right;\">\n",
              "      <th></th>\n",
              "      <th>source</th>\n",
              "      <th>target</th>\n",
              "    </tr>\n",
              "  </thead>\n",
              "  <tbody>\n",
              "    <tr>\n",
              "      <th>0</th>\n",
              "      <td>&lt;TITLE&gt; constrained minimization technique for...</td>\n",
              "      <td>this paper describes the constrained minimizat...</td>\n",
              "    </tr>\n",
              "    <tr>\n",
              "      <th>1</th>\n",
              "      <td>&lt;TITLE&gt; signfinder : using color to detect , l...</td>\n",
              "      <td>we describe an approach to detecting , locatin...</td>\n",
              "    </tr>\n",
              "    <tr>\n",
              "      <th>2</th>\n",
              "      <td>&lt;TITLE&gt; joint estimation of motion , structure...</td>\n",
              "      <td>we present a novel variational method for the ...</td>\n",
              "    </tr>\n",
              "    <tr>\n",
              "      <th>3</th>\n",
              "      <td>&lt;TITLE&gt; hierarchical language identification b...</td>\n",
              "      <td>due to the limitation of single-level classifi...</td>\n",
              "    </tr>\n",
              "    <tr>\n",
              "      <th>4</th>\n",
              "      <td>&lt;TITLE&gt; differentially private m-estimators . ...</td>\n",
              "      <td>this paper studies privacy preserving m-estima...</td>\n",
              "    </tr>\n",
              "  </tbody>\n",
              "</table>\n",
              "</div>\n",
              "      <button class=\"colab-df-convert\" onclick=\"convertToInteractive('df-63c59da0-ab68-4faa-ab07-80fa41c3987c')\"\n",
              "              title=\"Convert this dataframe to an interactive table.\"\n",
              "              style=\"display:none;\">\n",
              "        \n",
              "  <svg xmlns=\"http://www.w3.org/2000/svg\" height=\"24px\"viewBox=\"0 0 24 24\"\n",
              "       width=\"24px\">\n",
              "    <path d=\"M0 0h24v24H0V0z\" fill=\"none\"/>\n",
              "    <path d=\"M18.56 5.44l.94 2.06.94-2.06 2.06-.94-2.06-.94-.94-2.06-.94 2.06-2.06.94zm-11 1L8.5 8.5l.94-2.06 2.06-.94-2.06-.94L8.5 2.5l-.94 2.06-2.06.94zm10 10l.94 2.06.94-2.06 2.06-.94-2.06-.94-.94-2.06-.94 2.06-2.06.94z\"/><path d=\"M17.41 7.96l-1.37-1.37c-.4-.4-.92-.59-1.43-.59-.52 0-1.04.2-1.43.59L10.3 9.45l-7.72 7.72c-.78.78-.78 2.05 0 2.83L4 21.41c.39.39.9.59 1.41.59.51 0 1.02-.2 1.41-.59l7.78-7.78 2.81-2.81c.8-.78.8-2.07 0-2.86zM5.41 20L4 18.59l7.72-7.72 1.47 1.35L5.41 20z\"/>\n",
              "  </svg>\n",
              "      </button>\n",
              "      \n",
              "  <style>\n",
              "    .colab-df-container {\n",
              "      display:flex;\n",
              "      flex-wrap:wrap;\n",
              "      gap: 12px;\n",
              "    }\n",
              "\n",
              "    .colab-df-convert {\n",
              "      background-color: #E8F0FE;\n",
              "      border: none;\n",
              "      border-radius: 50%;\n",
              "      cursor: pointer;\n",
              "      display: none;\n",
              "      fill: #1967D2;\n",
              "      height: 32px;\n",
              "      padding: 0 0 0 0;\n",
              "      width: 32px;\n",
              "    }\n",
              "\n",
              "    .colab-df-convert:hover {\n",
              "      background-color: #E2EBFA;\n",
              "      box-shadow: 0px 1px 2px rgba(60, 64, 67, 0.3), 0px 1px 3px 1px rgba(60, 64, 67, 0.15);\n",
              "      fill: #174EA6;\n",
              "    }\n",
              "\n",
              "    [theme=dark] .colab-df-convert {\n",
              "      background-color: #3B4455;\n",
              "      fill: #D2E3FC;\n",
              "    }\n",
              "\n",
              "    [theme=dark] .colab-df-convert:hover {\n",
              "      background-color: #434B5C;\n",
              "      box-shadow: 0px 1px 3px 1px rgba(0, 0, 0, 0.15);\n",
              "      filter: drop-shadow(0px 1px 2px rgba(0, 0, 0, 0.3));\n",
              "      fill: #FFFFFF;\n",
              "    }\n",
              "  </style>\n",
              "\n",
              "      <script>\n",
              "        const buttonEl =\n",
              "          document.querySelector('#df-63c59da0-ab68-4faa-ab07-80fa41c3987c button.colab-df-convert');\n",
              "        buttonEl.style.display =\n",
              "          google.colab.kernel.accessAllowed ? 'block' : 'none';\n",
              "\n",
              "        async function convertToInteractive(key) {\n",
              "          const element = document.querySelector('#df-63c59da0-ab68-4faa-ab07-80fa41c3987c');\n",
              "          const dataTable =\n",
              "            await google.colab.kernel.invokeFunction('convertToInteractive',\n",
              "                                                     [key], {});\n",
              "          if (!dataTable) return;\n",
              "\n",
              "          const docLinkHtml = 'Like what you see? Visit the ' +\n",
              "            '<a target=\"_blank\" href=https://colab.research.google.com/notebooks/data_table.ipynb>data table notebook</a>'\n",
              "            + ' to learn more about interactive tables.';\n",
              "          element.innerHTML = '';\n",
              "          dataTable['output_type'] = 'display_data';\n",
              "          await google.colab.output.renderOutput(dataTable, element);\n",
              "          const docLink = document.createElement('div');\n",
              "          docLink.innerHTML = docLinkHtml;\n",
              "          element.appendChild(docLink);\n",
              "        }\n",
              "      </script>\n",
              "    </div>\n",
              "  </div>\n",
              "  "
            ]
          },
          "metadata": {},
          "execution_count": 17
        }
      ]
    },
    {
      "cell_type": "code",
      "source": [
        "val_df = pd.DataFrame(list(zip(val_source, val_target)),\n",
        "                        columns=['source', 'target'])\n",
        "\n",
        "test_df = pd.DataFrame(list(zip(test_source, test_target)),\n",
        "                        columns=['source', 'target'])"
      ],
      "metadata": {
        "id": "-thMkTROx5NK"
      },
      "execution_count": 18,
      "outputs": []
    },
    {
      "cell_type": "code",
      "source": [
        "test_df.head()"
      ],
      "metadata": {
        "colab": {
          "base_uri": "https://localhost:8080/",
          "height": 337
        },
        "id": "Rx5gCzqfCkx_",
        "outputId": "3078498c-f10b-4b17-dd65-4880b6145f76"
      },
      "execution_count": 39,
      "outputs": [
        {
          "output_type": "execute_result",
          "data": {
            "text/plain": [
              "                                              source  \\\n",
              "0  <TITLE> hierarchical semantic classification :...   \n",
              "1  <TITLE> prior-free and prior-dependent regret ...   \n",
              "2  <TITLE> speech processing and retrieval in a p...   \n",
              "3  <TITLE> estimating speech recognition error ra...   \n",
              "4  <TITLE> product of power spectrum and group de...   \n",
              "\n",
              "                                              target  \n",
              "0  we present a learning architecture for lexical...  \n",
              "1  we consider the stochastic multi-armed bandit ...  \n",
              "2  the paper presents a new application of automa...  \n",
              "3  we address the problem of estimating the word ...  \n",
              "4  mel-frequency cepstral coefficients -lrb- mel-...  "
            ],
            "text/html": [
              "\n",
              "  <div id=\"df-e88e98ae-8b94-49ae-a35c-a5de7d852251\">\n",
              "    <div class=\"colab-df-container\">\n",
              "      <div>\n",
              "<style scoped>\n",
              "    .dataframe tbody tr th:only-of-type {\n",
              "        vertical-align: middle;\n",
              "    }\n",
              "\n",
              "    .dataframe tbody tr th {\n",
              "        vertical-align: top;\n",
              "    }\n",
              "\n",
              "    .dataframe thead th {\n",
              "        text-align: right;\n",
              "    }\n",
              "</style>\n",
              "<table border=\"1\" class=\"dataframe\">\n",
              "  <thead>\n",
              "    <tr style=\"text-align: right;\">\n",
              "      <th></th>\n",
              "      <th>source</th>\n",
              "      <th>target</th>\n",
              "    </tr>\n",
              "  </thead>\n",
              "  <tbody>\n",
              "    <tr>\n",
              "      <th>0</th>\n",
              "      <td>&lt;TITLE&gt; hierarchical semantic classification :...</td>\n",
              "      <td>we present a learning architecture for lexical...</td>\n",
              "    </tr>\n",
              "    <tr>\n",
              "      <th>1</th>\n",
              "      <td>&lt;TITLE&gt; prior-free and prior-dependent regret ...</td>\n",
              "      <td>we consider the stochastic multi-armed bandit ...</td>\n",
              "    </tr>\n",
              "    <tr>\n",
              "      <th>2</th>\n",
              "      <td>&lt;TITLE&gt; speech processing and retrieval in a p...</td>\n",
              "      <td>the paper presents a new application of automa...</td>\n",
              "    </tr>\n",
              "    <tr>\n",
              "      <th>3</th>\n",
              "      <td>&lt;TITLE&gt; estimating speech recognition error ra...</td>\n",
              "      <td>we address the problem of estimating the word ...</td>\n",
              "    </tr>\n",
              "    <tr>\n",
              "      <th>4</th>\n",
              "      <td>&lt;TITLE&gt; product of power spectrum and group de...</td>\n",
              "      <td>mel-frequency cepstral coefficients -lrb- mel-...</td>\n",
              "    </tr>\n",
              "  </tbody>\n",
              "</table>\n",
              "</div>\n",
              "      <button class=\"colab-df-convert\" onclick=\"convertToInteractive('df-e88e98ae-8b94-49ae-a35c-a5de7d852251')\"\n",
              "              title=\"Convert this dataframe to an interactive table.\"\n",
              "              style=\"display:none;\">\n",
              "        \n",
              "  <svg xmlns=\"http://www.w3.org/2000/svg\" height=\"24px\"viewBox=\"0 0 24 24\"\n",
              "       width=\"24px\">\n",
              "    <path d=\"M0 0h24v24H0V0z\" fill=\"none\"/>\n",
              "    <path d=\"M18.56 5.44l.94 2.06.94-2.06 2.06-.94-2.06-.94-.94-2.06-.94 2.06-2.06.94zm-11 1L8.5 8.5l.94-2.06 2.06-.94-2.06-.94L8.5 2.5l-.94 2.06-2.06.94zm10 10l.94 2.06.94-2.06 2.06-.94-2.06-.94-.94-2.06-.94 2.06-2.06.94z\"/><path d=\"M17.41 7.96l-1.37-1.37c-.4-.4-.92-.59-1.43-.59-.52 0-1.04.2-1.43.59L10.3 9.45l-7.72 7.72c-.78.78-.78 2.05 0 2.83L4 21.41c.39.39.9.59 1.41.59.51 0 1.02-.2 1.41-.59l7.78-7.78 2.81-2.81c.8-.78.8-2.07 0-2.86zM5.41 20L4 18.59l7.72-7.72 1.47 1.35L5.41 20z\"/>\n",
              "  </svg>\n",
              "      </button>\n",
              "      \n",
              "  <style>\n",
              "    .colab-df-container {\n",
              "      display:flex;\n",
              "      flex-wrap:wrap;\n",
              "      gap: 12px;\n",
              "    }\n",
              "\n",
              "    .colab-df-convert {\n",
              "      background-color: #E8F0FE;\n",
              "      border: none;\n",
              "      border-radius: 50%;\n",
              "      cursor: pointer;\n",
              "      display: none;\n",
              "      fill: #1967D2;\n",
              "      height: 32px;\n",
              "      padding: 0 0 0 0;\n",
              "      width: 32px;\n",
              "    }\n",
              "\n",
              "    .colab-df-convert:hover {\n",
              "      background-color: #E2EBFA;\n",
              "      box-shadow: 0px 1px 2px rgba(60, 64, 67, 0.3), 0px 1px 3px 1px rgba(60, 64, 67, 0.15);\n",
              "      fill: #174EA6;\n",
              "    }\n",
              "\n",
              "    [theme=dark] .colab-df-convert {\n",
              "      background-color: #3B4455;\n",
              "      fill: #D2E3FC;\n",
              "    }\n",
              "\n",
              "    [theme=dark] .colab-df-convert:hover {\n",
              "      background-color: #434B5C;\n",
              "      box-shadow: 0px 1px 3px 1px rgba(0, 0, 0, 0.15);\n",
              "      filter: drop-shadow(0px 1px 2px rgba(0, 0, 0, 0.3));\n",
              "      fill: #FFFFFF;\n",
              "    }\n",
              "  </style>\n",
              "\n",
              "      <script>\n",
              "        const buttonEl =\n",
              "          document.querySelector('#df-e88e98ae-8b94-49ae-a35c-a5de7d852251 button.colab-df-convert');\n",
              "        buttonEl.style.display =\n",
              "          google.colab.kernel.accessAllowed ? 'block' : 'none';\n",
              "\n",
              "        async function convertToInteractive(key) {\n",
              "          const element = document.querySelector('#df-e88e98ae-8b94-49ae-a35c-a5de7d852251');\n",
              "          const dataTable =\n",
              "            await google.colab.kernel.invokeFunction('convertToInteractive',\n",
              "                                                     [key], {});\n",
              "          if (!dataTable) return;\n",
              "\n",
              "          const docLinkHtml = 'Like what you see? Visit the ' +\n",
              "            '<a target=\"_blank\" href=https://colab.research.google.com/notebooks/data_table.ipynb>data table notebook</a>'\n",
              "            + ' to learn more about interactive tables.';\n",
              "          element.innerHTML = '';\n",
              "          dataTable['output_type'] = 'display_data';\n",
              "          await google.colab.output.renderOutput(dataTable, element);\n",
              "          const docLink = document.createElement('div');\n",
              "          docLink.innerHTML = docLinkHtml;\n",
              "          element.appendChild(docLink);\n",
              "        }\n",
              "      </script>\n",
              "    </div>\n",
              "  </div>\n",
              "  "
            ]
          },
          "metadata": {},
          "execution_count": 39
        }
      ]
    },
    {
      "cell_type": "markdown",
      "source": [
        "# Import stuff"
      ],
      "metadata": {
        "id": "Bq4fbDO9yAd0"
      }
    },
    {
      "cell_type": "code",
      "source": [
        "!pip install transformers"
      ],
      "metadata": {
        "colab": {
          "base_uri": "https://localhost:8080/"
        },
        "id": "fNJD_LV0x5Pe",
        "outputId": "61e4828c-9172-4672-9b28-b66a90007a42"
      },
      "execution_count": 19,
      "outputs": [
        {
          "output_type": "stream",
          "name": "stdout",
          "text": [
            "Looking in indexes: https://pypi.org/simple, https://us-python.pkg.dev/colab-wheels/public/simple/\n",
            "Requirement already satisfied: transformers in /usr/local/lib/python3.10/dist-packages (4.29.2)\n",
            "Requirement already satisfied: filelock in /usr/local/lib/python3.10/dist-packages (from transformers) (3.12.0)\n",
            "Requirement already satisfied: huggingface-hub<1.0,>=0.14.1 in /usr/local/lib/python3.10/dist-packages (from transformers) (0.14.1)\n",
            "Requirement already satisfied: numpy>=1.17 in /usr/local/lib/python3.10/dist-packages (from transformers) (1.22.4)\n",
            "Requirement already satisfied: packaging>=20.0 in /usr/local/lib/python3.10/dist-packages (from transformers) (23.1)\n",
            "Requirement already satisfied: pyyaml>=5.1 in /usr/local/lib/python3.10/dist-packages (from transformers) (6.0)\n",
            "Requirement already satisfied: regex!=2019.12.17 in /usr/local/lib/python3.10/dist-packages (from transformers) (2022.10.31)\n",
            "Requirement already satisfied: requests in /usr/local/lib/python3.10/dist-packages (from transformers) (2.27.1)\n",
            "Requirement already satisfied: tokenizers!=0.11.3,<0.14,>=0.11.1 in /usr/local/lib/python3.10/dist-packages (from transformers) (0.13.3)\n",
            "Requirement already satisfied: tqdm>=4.27 in /usr/local/lib/python3.10/dist-packages (from transformers) (4.65.0)\n",
            "Requirement already satisfied: fsspec in /usr/local/lib/python3.10/dist-packages (from huggingface-hub<1.0,>=0.14.1->transformers) (2023.4.0)\n",
            "Requirement already satisfied: typing-extensions>=3.7.4.3 in /usr/local/lib/python3.10/dist-packages (from huggingface-hub<1.0,>=0.14.1->transformers) (4.5.0)\n",
            "Requirement already satisfied: urllib3<1.27,>=1.21.1 in /usr/local/lib/python3.10/dist-packages (from requests->transformers) (1.26.15)\n",
            "Requirement already satisfied: certifi>=2017.4.17 in /usr/local/lib/python3.10/dist-packages (from requests->transformers) (2022.12.7)\n",
            "Requirement already satisfied: charset-normalizer~=2.0.0 in /usr/local/lib/python3.10/dist-packages (from requests->transformers) (2.0.12)\n",
            "Requirement already satisfied: idna<4,>=2.5 in /usr/local/lib/python3.10/dist-packages (from requests->transformers) (3.4)\n"
          ]
        }
      ]
    },
    {
      "cell_type": "code",
      "source": [
        "import pandas as pd\n",
        "import numpy as np\n",
        "import matplotlib as plt\n",
        "import re\n",
        "from transformers import T5Tokenizer, T5Model, T5ForConditionalGeneration\n",
        "from torch.utils.data import random_split, RandomSampler\n",
        "from nltk.translate.bleu_score import sentence_bleu\n",
        "import seaborn as sns\n",
        "from torch.utils.data import Dataset, DataLoader\n",
        "import torch"
      ],
      "metadata": {
        "id": "bwEi6mFUyIER"
      },
      "execution_count": 20,
      "outputs": []
    },
    {
      "cell_type": "code",
      "source": [
        "# Setting up the device for GPU usage\n",
        "\n",
        "from torch import cuda\n",
        "device = 'cuda' if cuda.is_available() else 'cpu'"
      ],
      "metadata": {
        "id": "vuGwSfM2yIL2"
      },
      "execution_count": 21,
      "outputs": []
    },
    {
      "cell_type": "code",
      "source": [
        "source_arr = train_df['source']\n",
        "target_arr = train_df['target']"
      ],
      "metadata": {
        "id": "GYLWmjOxyIQt"
      },
      "execution_count": 22,
      "outputs": []
    },
    {
      "cell_type": "code",
      "source": [
        "class CustomDataset(Dataset):\n",
        "    def __init__(self, source_arr, target_arr, tokenizer):\n",
        "        self.target_arr = target_arr\n",
        "        self.source_arr = source_arr\n",
        "        self.tokenizer = tokenizer \n",
        "        \n",
        "        def ArrayLength():\n",
        "            target_arr_length = len(self.target_arr)\n",
        "            if(target_arr_length == len(self.source_arr)):\n",
        "                return target_arr_length\n",
        "            else:\n",
        "                raise Exception(\"Array Lengths not Equal!!!\")\n",
        "                \n",
        "        self.arr_len = ArrayLength()\n",
        "        \n",
        "    def __len__(self):\n",
        "        return self.arr_len\n",
        "    \n",
        "    def __getitem__(self, index):\n",
        "        target = self.target_arr[index]\n",
        "        source = self.source_arr[index]\n",
        "        \n",
        "        input_ = source + \"translate from Graph to Text: \"\n",
        "        output_ = target \n",
        "        \n",
        "        #Encoding our inputs\n",
        "        inputs = self.tokenizer.encode_plus(input_, pad_to_max_length=True,return_attention_mask=True, max_length=250)\n",
        "        #Encoding our outputs\n",
        "        outputs = self.tokenizer.encode_plus(output_, pad_to_max_length=True,return_attention_mask=True, max_length=250)\n",
        "        \n",
        "        input_ids = inputs['input_ids']\n",
        "        input_attention_masks = inputs['attention_mask']\n",
        "        \n",
        "        output_ids = outputs['input_ids']\n",
        "        output_attention_masks = outputs['attention_mask']\n",
        "        \n",
        "        return {\n",
        "            'input_ids': torch.tensor(input_ids, dtype=torch.long),\n",
        "            'input_mask': torch.tensor(input_attention_masks, dtype=torch.long),\n",
        "            'output_ids': torch.tensor(output_ids, dtype=torch.long),\n",
        "            'output_mask': torch.tensor(output_attention_masks, dtype=torch.long)\n",
        "        }   "
      ],
      "metadata": {
        "id": "X7ZXwVQcyUx2"
      },
      "execution_count": 23,
      "outputs": []
    },
    {
      "cell_type": "code",
      "source": [
        "#!pip install datsets transformers[sentencepiece]\n",
        "#!pip install sentencepiece"
      ],
      "metadata": {
        "id": "kIREAzxbyU37"
      },
      "execution_count": 24,
      "outputs": []
    },
    {
      "cell_type": "code",
      "source": [
        "# Loading pre-trained T5-base Tokenizer of T5-base Model\n",
        "\n",
        "tokenizer = T5Tokenizer.from_pretrained('t5-base')\n",
        "model = T5ForConditionalGeneration.from_pretrained('t5-base')\n",
        "model.to(device);"
      ],
      "metadata": {
        "colab": {
          "base_uri": "https://localhost:8080/"
        },
        "id": "ziPEK0jpx5Rz",
        "outputId": "8d0322bd-7a73-4ab9-f3c9-d42e5c8edcba"
      },
      "execution_count": 25,
      "outputs": [
        {
          "output_type": "stream",
          "name": "stderr",
          "text": [
            "/usr/local/lib/python3.10/dist-packages/transformers/models/t5/tokenization_t5.py:163: FutureWarning: This tokenizer was incorrectly instantiated with a model max length of 512 which will be corrected in Transformers v5.\n",
            "For now, this behavior is kept to avoid breaking backwards compatibility when padding/encoding with `truncation is True`.\n",
            "- Be aware that you SHOULD NOT rely on t5-base automatically truncating your input to 512 when padding/encoding.\n",
            "- If you want to encode/pad to sequences longer than 512 you can either instantiate this tokenizer with `model_max_length` or pass `max_length` when encoding/padding.\n",
            "- To avoid this warning, please instantiate this tokenizer with `model_max_length` set to your preferred value.\n",
            "  warnings.warn(\n"
          ]
        }
      ]
    },
    {
      "cell_type": "code",
      "source": [
        "tokenizer"
      ],
      "metadata": {
        "id": "OGt7P0KVx5UC"
      },
      "execution_count": null,
      "outputs": []
    },
    {
      "cell_type": "code",
      "source": [
        "new_tokens = ['<H>', '<R>', '<TITLE>']\n",
        "new_tokens_vocab = {}\n",
        "new_tokens_vocab['additional_special_tokens'] = []\n",
        "for idx, t in enumerate(new_tokens):\n",
        "  new_tokens_vocab['additional_special_tokens'].append(t)\n",
        "num_added_toks = tokenizer.add_special_tokens(new_tokens_vocab)"
      ],
      "metadata": {
        "id": "VEchaIWjx5Wi"
      },
      "execution_count": 27,
      "outputs": []
    },
    {
      "cell_type": "code",
      "source": [
        "tokenizer"
      ],
      "metadata": {
        "colab": {
          "base_uri": "https://localhost:8080/"
        },
        "id": "tlxKTfRQ0qf6",
        "outputId": "4cb5e1aa-514d-4c97-a090-78a50d9f3820"
      },
      "execution_count": 28,
      "outputs": [
        {
          "output_type": "execute_result",
          "data": {
            "text/plain": [
              "T5Tokenizer(name_or_path='t5-base', vocab_size=32100, model_max_length=512, is_fast=False, padding_side='right', truncation_side='right', special_tokens={'eos_token': '</s>', 'unk_token': '<unk>', 'pad_token': '<pad>', 'additional_special_tokens': ['<H>', '<R>', '<TITLE>']}, clean_up_tokenization_spaces=True)"
            ]
          },
          "metadata": {},
          "execution_count": 28
        }
      ]
    },
    {
      "cell_type": "markdown",
      "source": [
        "# Fine-tuning"
      ],
      "metadata": {
        "id": "WTaG8nEA05KB"
      }
    },
    {
      "cell_type": "code",
      "source": [
        "dataset = CustomDataset(target_arr, source_arr, tokenizer)\n",
        "\n",
        "trainset_ratio = 0.8\n",
        "\n",
        "data_len = len(dataset)\n",
        "print(\"Total Data Size: \", data_len)\n",
        "\n",
        "training_data_size = int(data_len*trainset_ratio)\n",
        "print(\"Training Data Size: \", training_data_size)\n",
        "\n",
        "val_data_size = data_len - training_data_size\n",
        "print(\"Validation Data Size: \", val_data_size)\n",
        "\n",
        "train_dataset, validation_dataset = random_split(dataset, [training_data_size, val_data_size])\n",
        "\n",
        "batch_size = 8\n",
        "train_dataloader = DataLoader(train_dataset, sampler = RandomSampler(train_dataset), batch_size=batch_size)\n",
        "\n",
        "if(trainset_ratio != 1.0):\n",
        "    validation_dataloader = DataLoader(validation_dataset, sampler = RandomSampler(validation_dataset), batch_size=batch_size)"
      ],
      "metadata": {
        "colab": {
          "base_uri": "https://localhost:8080/"
        },
        "id": "wNT22HOJ0ql_",
        "outputId": "137e319b-f8fa-48ff-947d-28f161114b65"
      },
      "execution_count": 29,
      "outputs": [
        {
          "output_type": "stream",
          "name": "stdout",
          "text": [
            "Total Data Size:  38720\n",
            "Training Data Size:  30976\n",
            "Validation Data Size:  7744\n"
          ]
        }
      ]
    },
    {
      "cell_type": "code",
      "source": [
        "LEARNING_RATE = 2e-5\n",
        "\n",
        "loss_function = torch.nn.CrossEntropyLoss()\n",
        "optimizer = torch.optim.AdamW(params =  model.parameters(), lr=LEARNING_RATE)\n",
        "\n",
        "epochs = 2\n",
        "steps2report = 20\n",
        "\n",
        "def calcuate_accuracy(preds, targets):\n",
        "    n_correct = (preds==targets).sum().item()\n",
        "    return n_correct\n",
        "\n",
        "for epoch in range(0,epochs):\n",
        "    model.train()\n",
        "    for step, data in enumerate(train_dataloader):\n",
        "        optimizer.zero_grad()\n",
        "        \n",
        "        # Getting input parameters\n",
        "        x_input_ids = data['input_ids'].to(device)\n",
        "        x_masks = data['input_mask'].to(device)\n",
        "\n",
        "        # Getting output parameters\n",
        "        y_expl_ids = data['output_ids'].to(device)\n",
        "\n",
        "        # Feeding values into our model\n",
        "        outputs = model(input_ids              = x_input_ids, \n",
        "                        attention_mask         = x_masks,\n",
        "                        labels                 = y_expl_ids)\n",
        "        loss = outputs[0] \n",
        "        \n",
        "        if step%steps2report==0:\n",
        "            print(\"EPOCH: \", epoch, \" loss.item: \", loss.item())\n",
        "        \n",
        "        loss.backward()\n",
        "        optimizer.step() "
      ],
      "metadata": {
        "colab": {
          "base_uri": "https://localhost:8080/",
          "height": 1000
        },
        "id": "lIU6FFbH07T0",
        "outputId": "54e5ccd8-df86-4fe5-afd3-c66c937df7a5"
      },
      "execution_count": 30,
      "outputs": [
        {
          "output_type": "stream",
          "name": "stderr",
          "text": [
            "Truncation was not explicitly activated but `max_length` is provided a specific value, please use `truncation=True` to explicitly truncate examples to max length. Defaulting to 'longest_first' truncation strategy. If you encode pairs of sequences (GLUE-style) with the tokenizer you can select this strategy more precisely by providing a specific strategy to `truncation`.\n",
            "/usr/local/lib/python3.10/dist-packages/transformers/tokenization_utils_base.py:2364: FutureWarning: The `pad_to_max_length` argument is deprecated and will be removed in a future version, use `padding=True` or `padding='longest'` to pad to the longest sequence in the batch, or use `padding='max_length'` to pad to a max length. In this case, you can give a specific length with `max_length` (e.g. `max_length=45`) or leave max_length to None to pad to the maximal input size of the model (e.g. 512 for Bert).\n",
            "  warnings.warn(\n"
          ]
        },
        {
          "output_type": "stream",
          "name": "stdout",
          "text": [
            "EPOCH:  0  loss.item:  10.057912826538086\n",
            "EPOCH:  0  loss.item:  5.44541072845459\n",
            "EPOCH:  0  loss.item:  2.550626516342163\n",
            "EPOCH:  0  loss.item:  3.321807622909546\n",
            "EPOCH:  0  loss.item:  1.8460559844970703\n",
            "EPOCH:  0  loss.item:  1.7833049297332764\n",
            "EPOCH:  0  loss.item:  1.4063384532928467\n",
            "EPOCH:  0  loss.item:  1.5923938751220703\n",
            "EPOCH:  0  loss.item:  1.9783505201339722\n",
            "EPOCH:  0  loss.item:  1.467055320739746\n",
            "EPOCH:  0  loss.item:  1.1101552248001099\n",
            "EPOCH:  0  loss.item:  1.0779809951782227\n",
            "EPOCH:  0  loss.item:  1.4565198421478271\n",
            "EPOCH:  0  loss.item:  1.1933716535568237\n",
            "EPOCH:  0  loss.item:  1.003564715385437\n",
            "EPOCH:  0  loss.item:  0.9285816550254822\n",
            "EPOCH:  0  loss.item:  0.9034581184387207\n",
            "EPOCH:  0  loss.item:  1.003572940826416\n",
            "EPOCH:  0  loss.item:  0.8155319094657898\n",
            "EPOCH:  0  loss.item:  1.0507314205169678\n",
            "EPOCH:  0  loss.item:  0.9162723422050476\n",
            "EPOCH:  0  loss.item:  1.085796594619751\n",
            "EPOCH:  0  loss.item:  0.9185289740562439\n",
            "EPOCH:  0  loss.item:  0.7196663618087769\n",
            "EPOCH:  0  loss.item:  0.8308289647102356\n",
            "EPOCH:  0  loss.item:  0.7272033095359802\n",
            "EPOCH:  0  loss.item:  0.7428740859031677\n",
            "EPOCH:  0  loss.item:  0.7363672256469727\n",
            "EPOCH:  0  loss.item:  0.8503487706184387\n",
            "EPOCH:  0  loss.item:  0.7606415748596191\n",
            "EPOCH:  0  loss.item:  0.839551568031311\n",
            "EPOCH:  0  loss.item:  0.7842922210693359\n",
            "EPOCH:  0  loss.item:  0.7600216269493103\n",
            "EPOCH:  0  loss.item:  0.785142183303833\n",
            "EPOCH:  0  loss.item:  0.7728999257087708\n",
            "EPOCH:  0  loss.item:  0.6763520240783691\n",
            "EPOCH:  0  loss.item:  0.9704349040985107\n",
            "EPOCH:  0  loss.item:  0.8080411553382874\n",
            "EPOCH:  0  loss.item:  0.7693169116973877\n",
            "EPOCH:  0  loss.item:  0.8866675496101379\n",
            "EPOCH:  0  loss.item:  0.7615134716033936\n",
            "EPOCH:  0  loss.item:  0.6985742449760437\n",
            "EPOCH:  0  loss.item:  0.5826408267021179\n",
            "EPOCH:  0  loss.item:  0.7239205837249756\n",
            "EPOCH:  0  loss.item:  0.6975043416023254\n",
            "EPOCH:  0  loss.item:  0.6313341856002808\n",
            "EPOCH:  0  loss.item:  0.7510293126106262\n",
            "EPOCH:  0  loss.item:  0.4715960621833801\n",
            "EPOCH:  0  loss.item:  0.5826370716094971\n",
            "EPOCH:  0  loss.item:  0.42793092131614685\n",
            "EPOCH:  0  loss.item:  0.7257875800132751\n",
            "EPOCH:  0  loss.item:  0.5933659076690674\n",
            "EPOCH:  0  loss.item:  0.5398033261299133\n",
            "EPOCH:  0  loss.item:  0.7719671130180359\n",
            "EPOCH:  0  loss.item:  0.6408464908599854\n",
            "EPOCH:  0  loss.item:  0.75437992811203\n",
            "EPOCH:  0  loss.item:  0.3856238126754761\n",
            "EPOCH:  0  loss.item:  0.5469496846199036\n",
            "EPOCH:  0  loss.item:  0.6036571264266968\n",
            "EPOCH:  0  loss.item:  0.5073024034500122\n",
            "EPOCH:  0  loss.item:  0.4099942743778229\n",
            "EPOCH:  0  loss.item:  0.486815869808197\n",
            "EPOCH:  0  loss.item:  0.6677356958389282\n",
            "EPOCH:  0  loss.item:  0.588475227355957\n",
            "EPOCH:  0  loss.item:  0.387453556060791\n",
            "EPOCH:  0  loss.item:  0.5746991038322449\n",
            "EPOCH:  0  loss.item:  0.7203286290168762\n",
            "EPOCH:  0  loss.item:  0.46965450048446655\n",
            "EPOCH:  0  loss.item:  0.3563609719276428\n",
            "EPOCH:  0  loss.item:  0.509254515171051\n",
            "EPOCH:  0  loss.item:  0.4624360203742981\n",
            "EPOCH:  0  loss.item:  0.7558960318565369\n",
            "EPOCH:  0  loss.item:  0.5225158929824829\n",
            "EPOCH:  0  loss.item:  0.5714495182037354\n",
            "EPOCH:  0  loss.item:  0.5563545823097229\n",
            "EPOCH:  0  loss.item:  0.47577139735221863\n",
            "EPOCH:  0  loss.item:  0.3824473023414612\n",
            "EPOCH:  0  loss.item:  0.40915021300315857\n",
            "EPOCH:  0  loss.item:  0.3799714744091034\n",
            "EPOCH:  0  loss.item:  0.5228064060211182\n",
            "EPOCH:  0  loss.item:  0.3476206064224243\n"
          ]
        },
        {
          "output_type": "error",
          "ename": "KeyboardInterrupt",
          "evalue": "ignored",
          "traceback": [
            "\u001b[0;31m---------------------------------------------------------------------------\u001b[0m",
            "\u001b[0;31mKeyboardInterrupt\u001b[0m                         Traceback (most recent call last)",
            "\u001b[0;32m<ipython-input-30-03e8833a9de0>\u001b[0m in \u001b[0;36m<cell line: 13>\u001b[0;34m()\u001b[0m\n\u001b[1;32m     32\u001b[0m             \u001b[0mprint\u001b[0m\u001b[0;34m(\u001b[0m\u001b[0;34m\"EPOCH: \"\u001b[0m\u001b[0;34m,\u001b[0m \u001b[0mepoch\u001b[0m\u001b[0;34m,\u001b[0m \u001b[0;34m\" loss.item: \"\u001b[0m\u001b[0;34m,\u001b[0m \u001b[0mloss\u001b[0m\u001b[0;34m.\u001b[0m\u001b[0mitem\u001b[0m\u001b[0;34m(\u001b[0m\u001b[0;34m)\u001b[0m\u001b[0;34m)\u001b[0m\u001b[0;34m\u001b[0m\u001b[0;34m\u001b[0m\u001b[0m\n\u001b[1;32m     33\u001b[0m \u001b[0;34m\u001b[0m\u001b[0m\n\u001b[0;32m---> 34\u001b[0;31m         \u001b[0mloss\u001b[0m\u001b[0;34m.\u001b[0m\u001b[0mbackward\u001b[0m\u001b[0;34m(\u001b[0m\u001b[0;34m)\u001b[0m\u001b[0;34m\u001b[0m\u001b[0;34m\u001b[0m\u001b[0m\n\u001b[0m\u001b[1;32m     35\u001b[0m         \u001b[0moptimizer\u001b[0m\u001b[0;34m.\u001b[0m\u001b[0mstep\u001b[0m\u001b[0;34m(\u001b[0m\u001b[0;34m)\u001b[0m\u001b[0;34m\u001b[0m\u001b[0;34m\u001b[0m\u001b[0m\n",
            "\u001b[0;32m/usr/local/lib/python3.10/dist-packages/torch/_tensor.py\u001b[0m in \u001b[0;36mbackward\u001b[0;34m(self, gradient, retain_graph, create_graph, inputs)\u001b[0m\n\u001b[1;32m    485\u001b[0m                 \u001b[0minputs\u001b[0m\u001b[0;34m=\u001b[0m\u001b[0minputs\u001b[0m\u001b[0;34m,\u001b[0m\u001b[0;34m\u001b[0m\u001b[0;34m\u001b[0m\u001b[0m\n\u001b[1;32m    486\u001b[0m             )\n\u001b[0;32m--> 487\u001b[0;31m         torch.autograd.backward(\n\u001b[0m\u001b[1;32m    488\u001b[0m             \u001b[0mself\u001b[0m\u001b[0;34m,\u001b[0m \u001b[0mgradient\u001b[0m\u001b[0;34m,\u001b[0m \u001b[0mretain_graph\u001b[0m\u001b[0;34m,\u001b[0m \u001b[0mcreate_graph\u001b[0m\u001b[0;34m,\u001b[0m \u001b[0minputs\u001b[0m\u001b[0;34m=\u001b[0m\u001b[0minputs\u001b[0m\u001b[0;34m\u001b[0m\u001b[0;34m\u001b[0m\u001b[0m\n\u001b[1;32m    489\u001b[0m         )\n",
            "\u001b[0;32m/usr/local/lib/python3.10/dist-packages/torch/autograd/__init__.py\u001b[0m in \u001b[0;36mbackward\u001b[0;34m(tensors, grad_tensors, retain_graph, create_graph, grad_variables, inputs)\u001b[0m\n\u001b[1;32m    198\u001b[0m     \u001b[0;31m# some Python versions print out the first line of a multi-line function\u001b[0m\u001b[0;34m\u001b[0m\u001b[0;34m\u001b[0m\u001b[0m\n\u001b[1;32m    199\u001b[0m     \u001b[0;31m# calls in the traceback and some print out the last line\u001b[0m\u001b[0;34m\u001b[0m\u001b[0;34m\u001b[0m\u001b[0m\n\u001b[0;32m--> 200\u001b[0;31m     Variable._execution_engine.run_backward(  # Calls into the C++ engine to run the backward pass\n\u001b[0m\u001b[1;32m    201\u001b[0m         \u001b[0mtensors\u001b[0m\u001b[0;34m,\u001b[0m \u001b[0mgrad_tensors_\u001b[0m\u001b[0;34m,\u001b[0m \u001b[0mretain_graph\u001b[0m\u001b[0;34m,\u001b[0m \u001b[0mcreate_graph\u001b[0m\u001b[0;34m,\u001b[0m \u001b[0minputs\u001b[0m\u001b[0;34m,\u001b[0m\u001b[0;34m\u001b[0m\u001b[0;34m\u001b[0m\u001b[0m\n\u001b[1;32m    202\u001b[0m         allow_unreachable=True, accumulate_grad=True)  # Calls into the C++ engine to run the backward pass\n",
            "\u001b[0;31mKeyboardInterrupt\u001b[0m: "
          ]
        }
      ]
    },
    {
      "cell_type": "markdown",
      "source": [
        "# Inference"
      ],
      "metadata": {
        "id": "ZrrBcRtM_h_w"
      }
    },
    {
      "cell_type": "code",
      "source": [
        "target_arr = test_df['target']\n",
        "source_arr = test_df['source']\n",
        "\n",
        "batch_size = 8\n",
        "test_dataset = CustomDataset(target_arr, source_arr, tokenizer)\n",
        "test_dataloader = DataLoader(test_dataset, sampler = RandomSampler(test_dataset), batch_size=batch_size)"
      ],
      "metadata": {
        "id": "WBWB6L-h07Yq"
      },
      "execution_count": 31,
      "outputs": []
    },
    {
      "cell_type": "code",
      "source": [
        "source_arr[0]"
      ],
      "metadata": {
        "colab": {
          "base_uri": "https://localhost:8080/",
          "height": 71
        },
        "id": "WV56wmyQFXZC",
        "outputId": "34bc987c-aa08-486d-b254-338690198136"
      },
      "execution_count": 45,
      "outputs": [
        {
          "output_type": "execute_result",
          "data": {
            "text/plain": [
              "'<TITLE> hierarchical semantic classification : word sense disambiguation with world knowledge . <H> learning architecture <R> USED-FOR <T> lexical semantic classification problems\\n'"
            ],
            "application/vnd.google.colaboratory.intrinsic+json": {
              "type": "string"
            }
          },
          "metadata": {},
          "execution_count": 45
        }
      ]
    },
    {
      "cell_type": "code",
      "source": [
        "import torch\n",
        "model.eval()\n",
        "\n",
        "model_inputArr = []\n",
        "model_outputArr = []\n",
        "target_outputArr = []\n",
        "\n",
        "with torch.no_grad():\n",
        "    for step, data in enumerate(test_dataloader):\n",
        "        input_ids = data[\"input_ids\"].to(device)\n",
        "        input_masks = data[\"input_mask\"].to(device)\n",
        "        explanation_ids = data[\"output_ids\"].to(device)\n",
        "        explanation_masks = data[\"output_mask\"].to(device)\n",
        "        output = model.generate(input_ids = input_ids, attention_mask = input_masks, max_length=200,do_sample=False )\n",
        "        \n",
        "        for input_vector, output_vector in zip(input_ids, output):\n",
        "            model_inputArr.append(tokenizer.decode(input_vector, skip_special_tokens=False))\n",
        "            model_outputArr.append(tokenizer.decode(output_vector, skip_special_tokens=True))\n",
        "        target_outputArr.append(tokenizer.batch_decode(explanation_ids, skip_special_tokens=True))    \n",
        "        \n",
        "target_outputArr = [item for sublist in target_outputArr for item in sublist]"
      ],
      "metadata": {
        "colab": {
          "base_uri": "https://localhost:8080/"
        },
        "id": "-Dodd97L07c5",
        "outputId": "1ba3bd1b-bb3e-4652-ce91-5b5f6edde50f"
      },
      "execution_count": 40,
      "outputs": [
        {
          "output_type": "stream",
          "name": "stderr",
          "text": [
            "/usr/local/lib/python3.10/dist-packages/transformers/tokenization_utils_base.py:2364: FutureWarning: The `pad_to_max_length` argument is deprecated and will be removed in a future version, use `padding=True` or `padding='longest'` to pad to the longest sequence in the batch, or use `padding='max_length'` to pad to a max length. In this case, you can give a specific length with `max_length` (e.g. `max_length=45`) or leave max_length to None to pad to the maximal input size of the model (e.g. 512 for Bert).\n",
            "  warnings.warn(\n"
          ]
        }
      ]
    },
    {
      "cell_type": "code",
      "source": [
        "data_ = {\n",
        "    'input' : model_inputArr,\n",
        "    'model output' : model_outputArr,\n",
        "    'target output' : target_outputArr\n",
        "}\n",
        "results_dataframe = pd.DataFrame(data = data_)"
      ],
      "metadata": {
        "id": "S7CW4CLW07gt"
      },
      "execution_count": 41,
      "outputs": []
    },
    {
      "cell_type": "code",
      "source": [
        "results_dataframe.head()"
      ],
      "metadata": {
        "colab": {
          "base_uri": "https://localhost:8080/",
          "height": 372
        },
        "id": "o0wPMWJa0qqO",
        "outputId": "adf3f5f2-0d48-48cb-9246-fbbb7ecacabc"
      },
      "execution_count": 42,
      "outputs": [
        {
          "output_type": "execute_result",
          "data": {
            "text/plain": [
              "                                               input  \\\n",
              "0  action recognition in videos is a challenging ...   \n",
              "1  this paper considers the problem of computing ...   \n",
              "2  automated musical accompaniment of human perfo...   \n",
              "3  symbolic bidirectional uniform-cost search is ...   \n",
              "4  we derive a recursive general-radix pruned coo...   \n",
              "\n",
              "                                        model output  \\\n",
              "0  hybrid video classification using unsupervised...   \n",
              "1  a method for computing placement of points in ...   \n",
              "2  a markov model for musical accompaniment. sequ...   \n",
              "3  abstraction heuristics in symbolic bidirection...   \n",
              "4  a recursive general-radix pruned cooley-tukey ...   \n",
              "\n",
              "                                       target output  \n",
              "0  sympathy for the details : dense trajectories ...  \n",
              "1  stereo from uncalibrated cameras. iterative me...  \n",
              "2  modeling form for on-line following of musical...  \n",
              "3  abstraction heuristics for symbolic bidirectio...  \n",
              "4  generating high performance pruned fft impleme...  "
            ],
            "text/html": [
              "\n",
              "  <div id=\"df-59d37391-8f5b-45c7-9fb7-366383de9bb0\">\n",
              "    <div class=\"colab-df-container\">\n",
              "      <div>\n",
              "<style scoped>\n",
              "    .dataframe tbody tr th:only-of-type {\n",
              "        vertical-align: middle;\n",
              "    }\n",
              "\n",
              "    .dataframe tbody tr th {\n",
              "        vertical-align: top;\n",
              "    }\n",
              "\n",
              "    .dataframe thead th {\n",
              "        text-align: right;\n",
              "    }\n",
              "</style>\n",
              "<table border=\"1\" class=\"dataframe\">\n",
              "  <thead>\n",
              "    <tr style=\"text-align: right;\">\n",
              "      <th></th>\n",
              "      <th>input</th>\n",
              "      <th>model output</th>\n",
              "      <th>target output</th>\n",
              "    </tr>\n",
              "  </thead>\n",
              "  <tbody>\n",
              "    <tr>\n",
              "      <th>0</th>\n",
              "      <td>action recognition in videos is a challenging ...</td>\n",
              "      <td>hybrid video classification using unsupervised...</td>\n",
              "      <td>sympathy for the details : dense trajectories ...</td>\n",
              "    </tr>\n",
              "    <tr>\n",
              "      <th>1</th>\n",
              "      <td>this paper considers the problem of computing ...</td>\n",
              "      <td>a method for computing placement of points in ...</td>\n",
              "      <td>stereo from uncalibrated cameras. iterative me...</td>\n",
              "    </tr>\n",
              "    <tr>\n",
              "      <th>2</th>\n",
              "      <td>automated musical accompaniment of human perfo...</td>\n",
              "      <td>a markov model for musical accompaniment. sequ...</td>\n",
              "      <td>modeling form for on-line following of musical...</td>\n",
              "    </tr>\n",
              "    <tr>\n",
              "      <th>3</th>\n",
              "      <td>symbolic bidirectional uniform-cost search is ...</td>\n",
              "      <td>abstraction heuristics in symbolic bidirection...</td>\n",
              "      <td>abstraction heuristics for symbolic bidirectio...</td>\n",
              "    </tr>\n",
              "    <tr>\n",
              "      <th>4</th>\n",
              "      <td>we derive a recursive general-radix pruned coo...</td>\n",
              "      <td>a recursive general-radix pruned cooley-tukey ...</td>\n",
              "      <td>generating high performance pruned fft impleme...</td>\n",
              "    </tr>\n",
              "  </tbody>\n",
              "</table>\n",
              "</div>\n",
              "      <button class=\"colab-df-convert\" onclick=\"convertToInteractive('df-59d37391-8f5b-45c7-9fb7-366383de9bb0')\"\n",
              "              title=\"Convert this dataframe to an interactive table.\"\n",
              "              style=\"display:none;\">\n",
              "        \n",
              "  <svg xmlns=\"http://www.w3.org/2000/svg\" height=\"24px\"viewBox=\"0 0 24 24\"\n",
              "       width=\"24px\">\n",
              "    <path d=\"M0 0h24v24H0V0z\" fill=\"none\"/>\n",
              "    <path d=\"M18.56 5.44l.94 2.06.94-2.06 2.06-.94-2.06-.94-.94-2.06-.94 2.06-2.06.94zm-11 1L8.5 8.5l.94-2.06 2.06-.94-2.06-.94L8.5 2.5l-.94 2.06-2.06.94zm10 10l.94 2.06.94-2.06 2.06-.94-2.06-.94-.94-2.06-.94 2.06-2.06.94z\"/><path d=\"M17.41 7.96l-1.37-1.37c-.4-.4-.92-.59-1.43-.59-.52 0-1.04.2-1.43.59L10.3 9.45l-7.72 7.72c-.78.78-.78 2.05 0 2.83L4 21.41c.39.39.9.59 1.41.59.51 0 1.02-.2 1.41-.59l7.78-7.78 2.81-2.81c.8-.78.8-2.07 0-2.86zM5.41 20L4 18.59l7.72-7.72 1.47 1.35L5.41 20z\"/>\n",
              "  </svg>\n",
              "      </button>\n",
              "      \n",
              "  <style>\n",
              "    .colab-df-container {\n",
              "      display:flex;\n",
              "      flex-wrap:wrap;\n",
              "      gap: 12px;\n",
              "    }\n",
              "\n",
              "    .colab-df-convert {\n",
              "      background-color: #E8F0FE;\n",
              "      border: none;\n",
              "      border-radius: 50%;\n",
              "      cursor: pointer;\n",
              "      display: none;\n",
              "      fill: #1967D2;\n",
              "      height: 32px;\n",
              "      padding: 0 0 0 0;\n",
              "      width: 32px;\n",
              "    }\n",
              "\n",
              "    .colab-df-convert:hover {\n",
              "      background-color: #E2EBFA;\n",
              "      box-shadow: 0px 1px 2px rgba(60, 64, 67, 0.3), 0px 1px 3px 1px rgba(60, 64, 67, 0.15);\n",
              "      fill: #174EA6;\n",
              "    }\n",
              "\n",
              "    [theme=dark] .colab-df-convert {\n",
              "      background-color: #3B4455;\n",
              "      fill: #D2E3FC;\n",
              "    }\n",
              "\n",
              "    [theme=dark] .colab-df-convert:hover {\n",
              "      background-color: #434B5C;\n",
              "      box-shadow: 0px 1px 3px 1px rgba(0, 0, 0, 0.15);\n",
              "      filter: drop-shadow(0px 1px 2px rgba(0, 0, 0, 0.3));\n",
              "      fill: #FFFFFF;\n",
              "    }\n",
              "  </style>\n",
              "\n",
              "      <script>\n",
              "        const buttonEl =\n",
              "          document.querySelector('#df-59d37391-8f5b-45c7-9fb7-366383de9bb0 button.colab-df-convert');\n",
              "        buttonEl.style.display =\n",
              "          google.colab.kernel.accessAllowed ? 'block' : 'none';\n",
              "\n",
              "        async function convertToInteractive(key) {\n",
              "          const element = document.querySelector('#df-59d37391-8f5b-45c7-9fb7-366383de9bb0');\n",
              "          const dataTable =\n",
              "            await google.colab.kernel.invokeFunction('convertToInteractive',\n",
              "                                                     [key], {});\n",
              "          if (!dataTable) return;\n",
              "\n",
              "          const docLinkHtml = 'Like what you see? Visit the ' +\n",
              "            '<a target=\"_blank\" href=https://colab.research.google.com/notebooks/data_table.ipynb>data table notebook</a>'\n",
              "            + ' to learn more about interactive tables.';\n",
              "          element.innerHTML = '';\n",
              "          dataTable['output_type'] = 'display_data';\n",
              "          await google.colab.output.renderOutput(dataTable, element);\n",
              "          const docLink = document.createElement('div');\n",
              "          docLink.innerHTML = docLinkHtml;\n",
              "          element.appendChild(docLink);\n",
              "        }\n",
              "      </script>\n",
              "    </div>\n",
              "  </div>\n",
              "  "
            ]
          },
          "metadata": {},
          "execution_count": 42
        }
      ]
    },
    {
      "cell_type": "code",
      "source": [
        "input_list = results_dataframe['input'].tolist()"
      ],
      "metadata": {
        "id": "QntneSMb0qtU"
      },
      "execution_count": 43,
      "outputs": []
    },
    {
      "cell_type": "code",
      "source": [
        "input_list[1]"
      ],
      "metadata": {
        "colab": {
          "base_uri": "https://localhost:8080/",
          "height": 268
        },
        "id": "7sp7fLXX0qwE",
        "outputId": "bc5437fc-5bb6-4b9f-e56f-ceddb1d9e153"
      },
      "execution_count": 49,
      "outputs": [
        {
          "output_type": "execute_result",
          "data": {
            "text/plain": [
              "'this paper considers the problem of computing placement of points in 3 dimensional space given two uncalibrated perspective views. the main theorem shows that the placement of the points is determined only up to an arbitrary projective transformation of 3-space. given additional ground control points, however, the location of the points and the camera parameters may be determined. the method is linear and non-iterative whereas previously known methods for solving the camera calibration and placement to take proper account of both ground-control points and image correspondences are unsatisfactory in requiring either iterative methods or model restrictions. as a result of the main theorem, it is possible to determine projective invariants of 3-d geometric configurations from two perspective views. translate from Graph to Text:</s><pad><pad><pad><pad><pad><pad><pad><pad><pad><pad><pad><pad><pad><pad><pad><pad><pad><pad><pad><pad><pad><pad><pad><pad><pad><pad><pad><pad><pad><pad><pad><pad><pad><pad><pad><pad><pad><pad><pad><pad><pad><pad><pad><pad><pad><pad><pad><pad><pad><pad><pad><pad><pad><pad><pad><pad><pad><pad><pad><pad><pad><pad><pad><pad><pad><pad><pad><pad><pad><pad><pad><pad><pad>'"
            ],
            "application/vnd.google.colaboratory.intrinsic+json": {
              "type": "string"
            }
          },
          "metadata": {},
          "execution_count": 49
        }
      ]
    },
    {
      "cell_type": "code",
      "source": [
        "source_arr[1]"
      ],
      "metadata": {
        "colab": {
          "base_uri": "https://localhost:8080/",
          "height": 89
        },
        "id": "WWsrNH4E0qyb",
        "outputId": "0a1b0361-fac3-495f-dda8-a9b7215687a0"
      },
      "execution_count": 38,
      "outputs": [
        {
          "output_type": "execute_result",
          "data": {
            "text/plain": [
              "'<TITLE> prior-free and prior-dependent regret bounds for thompson sampling . <H> distribution-free and distribution-dependent bounds <R> USED-FOR <T> non-bayesian stochastic bandit <H> reward distributions <R> FEATURE-OF <T> stochastic multi-armed bandit problem\\n'"
            ],
            "application/vnd.google.colaboratory.intrinsic+json": {
              "type": "string"
            }
          },
          "metadata": {},
          "execution_count": 38
        }
      ]
    },
    {
      "cell_type": "code",
      "source": [
        "real_target = list(results_dataframe[\"target output\"])\n",
        "generated_target = list(results_dataframe[\"model output\"])"
      ],
      "metadata": {
        "id": "YjbMuSm_GWGo"
      },
      "execution_count": 50,
      "outputs": []
    },
    {
      "cell_type": "code",
      "source": [
        "real_target[3]"
      ],
      "metadata": {
        "colab": {
          "base_uri": "https://localhost:8080/",
          "height": 89
        },
        "id": "bJOdzsjrGWOj",
        "outputId": "82185b1f-5cf8-49bd-f883-daaef2a79039"
      },
      "execution_count": 55,
      "outputs": [
        {
          "output_type": "execute_result",
          "data": {
            "text/plain": [
              "'abstraction heuristics for symbolic bidirectional search. heuristics USED-FOR T> bidi-rectional search partial and perimeter abstractions USED-FOR T> bidirectional search abstraction heuristics USED-FOR T> symbolic bidirectional search'"
            ],
            "application/vnd.google.colaboratory.intrinsic+json": {
              "type": "string"
            }
          },
          "metadata": {},
          "execution_count": 55
        }
      ]
    },
    {
      "cell_type": "code",
      "source": [
        "generated_target[3]"
      ],
      "metadata": {
        "colab": {
          "base_uri": "https://localhost:8080/",
          "height": 107
        },
        "id": "G_X15rXJGWWN",
        "outputId": "e70a0adf-8bf8-4a50-d0f1-2c467857c5b9"
      },
      "execution_count": 56,
      "outputs": [
        {
          "output_type": "execute_result",
          "data": {
            "text/plain": [
              "'abstraction heuristics in symbolic bidirectional search. abstraction heuristics USED-FOR T> symbolic bidirectional search abstraction heuristics USED-FOR T> symbolic bidirectional search abstraction heuristics USED-FOR T> symbolic bidirectional search abstraction heuristics USED-FOR T> symbolic bidirectional search abstract state spaces USED-FOR T> bidirectional search'"
            ],
            "application/vnd.google.colaboratory.intrinsic+json": {
              "type": "string"
            }
          },
          "metadata": {},
          "execution_count": 56
        }
      ]
    },
    {
      "cell_type": "code",
      "source": [
        "results_dataframe.to_csv(\"/content/drive/My Drive/comp_sem_group_project/generated_results.csv\")"
      ],
      "metadata": {
        "id": "HLfn4BWxHC-O"
      },
      "execution_count": 62,
      "outputs": []
    },
    {
      "cell_type": "code",
      "source": [],
      "metadata": {
        "id": "0Iqq-kebHDAk"
      },
      "execution_count": null,
      "outputs": []
    },
    {
      "cell_type": "code",
      "source": [],
      "metadata": {
        "id": "NpQCS6PyG6BF"
      },
      "execution_count": null,
      "outputs": []
    },
    {
      "cell_type": "code",
      "source": [],
      "metadata": {
        "id": "aTjYNlmYG6H0"
      },
      "execution_count": null,
      "outputs": []
    },
    {
      "cell_type": "code",
      "source": [],
      "metadata": {
        "id": "4gsWuOaoG6Mz"
      },
      "execution_count": null,
      "outputs": []
    }
  ]
}